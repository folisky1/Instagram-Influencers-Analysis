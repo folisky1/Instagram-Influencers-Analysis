{
 "cells": [
  {
   "cell_type": "markdown",
   "id": "2ea7ab02",
   "metadata": {},
   "source": [
    "## Analyzing the Activity, Engagement, and Popularity of Instagram Influencers"
   ]
  },
  {
   "cell_type": "markdown",
   "id": "e6f6f00d",
   "metadata": {},
   "source": [
    "This project centers around a comprehensive dataset, capturing intriguing insights into the realm of Instagram influencers. Delving into their origins, follower counts, influence scores, average and total likes, post frequency etc., Our analysis sheds light on their vibrant presence in the social media landscape. Through this exploration, we aim to unravel the dynamics of activity, engagement, and popularity that define the captivating world of social media analytics.\n",
    "\n",
    "This analysis will answer the following questions:\n",
    "1. Who are the top 5 most popular influencers?\n",
    "2. Who are the top 5 most active influencers?\n",
    "3. Who are the top 5  influencers with highest number of engagements?\n",
    "4. What are the top 10  countries with the highest numbers of influencers?\n",
    "5. Who are the top 5  influencers with highest influence score?\n",
    "6. Are there any relationships between activity (posts), popularity(followers) and engagement(likes)?\n",
    "\n",
    "**Note: You can find the dashboard with the accompanying charts located at the bottom of this page**"
   ]
  },
  {
   "cell_type": "code",
   "execution_count": 1,
   "id": "ba2c25bb",
   "metadata": {},
   "outputs": [],
   "source": [
    "# Import the required libraries\n",
    "import numpy as np\n",
    "import pandas as pd\n",
    "import matplotlib.pyplot as plt\n",
    "import seaborn as sns"
   ]
  },
  {
   "cell_type": "code",
   "execution_count": 2,
   "id": "302d3155",
   "metadata": {},
   "outputs": [],
   "source": [
    "# Load the data\n",
    "influence = pd.read_excel('top_insta_influencers_data.xlsx')"
   ]
  },
  {
   "cell_type": "code",
   "execution_count": 3,
   "id": "d4ac098b",
   "metadata": {},
   "outputs": [
    {
     "data": {
      "text/html": [
       "<div>\n",
       "<style scoped>\n",
       "    .dataframe tbody tr th:only-of-type {\n",
       "        vertical-align: middle;\n",
       "    }\n",
       "\n",
       "    .dataframe tbody tr th {\n",
       "        vertical-align: top;\n",
       "    }\n",
       "\n",
       "    .dataframe thead th {\n",
       "        text-align: right;\n",
       "    }\n",
       "</style>\n",
       "<table border=\"1\" class=\"dataframe\">\n",
       "  <thead>\n",
       "    <tr style=\"text-align: right;\">\n",
       "      <th></th>\n",
       "      <th>rank</th>\n",
       "      <th>channel_info</th>\n",
       "      <th>influence_score</th>\n",
       "      <th>posts</th>\n",
       "      <th>followers</th>\n",
       "      <th>avg_likes</th>\n",
       "      <th>60_day_eng_rate</th>\n",
       "      <th>new_post_avg_like</th>\n",
       "      <th>total_likes</th>\n",
       "      <th>country</th>\n",
       "    </tr>\n",
       "  </thead>\n",
       "  <tbody>\n",
       "    <tr>\n",
       "      <th>0</th>\n",
       "      <td>1</td>\n",
       "      <td>cristiano</td>\n",
       "      <td>92</td>\n",
       "      <td>3.3k</td>\n",
       "      <td>475.8m</td>\n",
       "      <td>8.7m</td>\n",
       "      <td>0.0139</td>\n",
       "      <td>6.5m</td>\n",
       "      <td>29.0b</td>\n",
       "      <td>Portugal</td>\n",
       "    </tr>\n",
       "    <tr>\n",
       "      <th>1</th>\n",
       "      <td>2</td>\n",
       "      <td>kyliejenner</td>\n",
       "      <td>91</td>\n",
       "      <td>6.9k</td>\n",
       "      <td>366.2m</td>\n",
       "      <td>8.3m</td>\n",
       "      <td>0.0162</td>\n",
       "      <td>5.9m</td>\n",
       "      <td>57.4b</td>\n",
       "      <td>United States</td>\n",
       "    </tr>\n",
       "    <tr>\n",
       "      <th>2</th>\n",
       "      <td>3</td>\n",
       "      <td>leomessi</td>\n",
       "      <td>90</td>\n",
       "      <td>0.89k</td>\n",
       "      <td>357.3m</td>\n",
       "      <td>6.8m</td>\n",
       "      <td>0.0124</td>\n",
       "      <td>4.4m</td>\n",
       "      <td>6.0b</td>\n",
       "      <td>Argentina</td>\n",
       "    </tr>\n",
       "    <tr>\n",
       "      <th>3</th>\n",
       "      <td>4</td>\n",
       "      <td>selenagomez</td>\n",
       "      <td>93</td>\n",
       "      <td>1.8k</td>\n",
       "      <td>342.7m</td>\n",
       "      <td>6.2m</td>\n",
       "      <td>0.0097</td>\n",
       "      <td>3.3m</td>\n",
       "      <td>11.5b</td>\n",
       "      <td>United States</td>\n",
       "    </tr>\n",
       "    <tr>\n",
       "      <th>4</th>\n",
       "      <td>5</td>\n",
       "      <td>therock</td>\n",
       "      <td>91</td>\n",
       "      <td>6.8k</td>\n",
       "      <td>334.1m</td>\n",
       "      <td>1.9m</td>\n",
       "      <td>0.002</td>\n",
       "      <td>665.3k</td>\n",
       "      <td>12.5b</td>\n",
       "      <td>United States</td>\n",
       "    </tr>\n",
       "  </tbody>\n",
       "</table>\n",
       "</div>"
      ],
      "text/plain": [
       "   rank channel_info  influence_score  posts followers avg_likes  \\\n",
       "0     1    cristiano               92   3.3k    475.8m      8.7m   \n",
       "1     2  kyliejenner               91   6.9k    366.2m      8.3m   \n",
       "2     3     leomessi               90  0.89k    357.3m      6.8m   \n",
       "3     4  selenagomez               93   1.8k    342.7m      6.2m   \n",
       "4     5      therock               91   6.8k    334.1m      1.9m   \n",
       "\n",
       "  60_day_eng_rate new_post_avg_like total_likes        country  \n",
       "0          0.0139              6.5m       29.0b       Portugal  \n",
       "1          0.0162              5.9m       57.4b  United States  \n",
       "2          0.0124              4.4m        6.0b      Argentina  \n",
       "3          0.0097              3.3m       11.5b  United States  \n",
       "4           0.002            665.3k       12.5b  United States  "
      ]
     },
     "execution_count": 3,
     "metadata": {},
     "output_type": "execute_result"
    }
   ],
   "source": [
    "# Print the five 5 rows of the dataframe\n",
    "influence.head()"
   ]
  },
  {
   "cell_type": "code",
   "execution_count": 4,
   "id": "a117f93b",
   "metadata": {},
   "outputs": [
    {
     "data": {
      "text/html": [
       "<div>\n",
       "<style scoped>\n",
       "    .dataframe tbody tr th:only-of-type {\n",
       "        vertical-align: middle;\n",
       "    }\n",
       "\n",
       "    .dataframe tbody tr th {\n",
       "        vertical-align: top;\n",
       "    }\n",
       "\n",
       "    .dataframe thead th {\n",
       "        text-align: right;\n",
       "    }\n",
       "</style>\n",
       "<table border=\"1\" class=\"dataframe\">\n",
       "  <thead>\n",
       "    <tr style=\"text-align: right;\">\n",
       "      <th></th>\n",
       "      <th>rank</th>\n",
       "      <th>channel_info</th>\n",
       "      <th>influence_score</th>\n",
       "      <th>posts</th>\n",
       "      <th>followers</th>\n",
       "      <th>avg_likes</th>\n",
       "      <th>60_day_eng_rate</th>\n",
       "      <th>new_post_avg_like</th>\n",
       "      <th>total_likes</th>\n",
       "      <th>country</th>\n",
       "    </tr>\n",
       "  </thead>\n",
       "  <tbody>\n",
       "    <tr>\n",
       "      <th>195</th>\n",
       "      <td>196</td>\n",
       "      <td>iambeckyg</td>\n",
       "      <td>71</td>\n",
       "      <td>2.3k</td>\n",
       "      <td>33.2m</td>\n",
       "      <td>623.8k</td>\n",
       "      <td>0.014</td>\n",
       "      <td>464.7k</td>\n",
       "      <td>1.4b</td>\n",
       "      <td>United States</td>\n",
       "    </tr>\n",
       "    <tr>\n",
       "      <th>196</th>\n",
       "      <td>197</td>\n",
       "      <td>nancyajram</td>\n",
       "      <td>81</td>\n",
       "      <td>3.8k</td>\n",
       "      <td>33.2m</td>\n",
       "      <td>390.4k</td>\n",
       "      <td>0.0064</td>\n",
       "      <td>208.0k</td>\n",
       "      <td>1.5b</td>\n",
       "      <td>France</td>\n",
       "    </tr>\n",
       "    <tr>\n",
       "      <th>197</th>\n",
       "      <td>198</td>\n",
       "      <td>luansantana</td>\n",
       "      <td>79</td>\n",
       "      <td>0.77k</td>\n",
       "      <td>33.2m</td>\n",
       "      <td>193.3k</td>\n",
       "      <td>0.0026</td>\n",
       "      <td>82.6k</td>\n",
       "      <td>149.2m</td>\n",
       "      <td>Brazil</td>\n",
       "    </tr>\n",
       "    <tr>\n",
       "      <th>198</th>\n",
       "      <td>199</td>\n",
       "      <td>nickjonas</td>\n",
       "      <td>78</td>\n",
       "      <td>2.3k</td>\n",
       "      <td>33.0m</td>\n",
       "      <td>719.6k</td>\n",
       "      <td>0.0142</td>\n",
       "      <td>467.7k</td>\n",
       "      <td>1.7b</td>\n",
       "      <td>United States</td>\n",
       "    </tr>\n",
       "    <tr>\n",
       "      <th>199</th>\n",
       "      <td>200</td>\n",
       "      <td>raisa6690</td>\n",
       "      <td>80</td>\n",
       "      <td>4.2k</td>\n",
       "      <td>32.8m</td>\n",
       "      <td>232.2k</td>\n",
       "      <td>0.003</td>\n",
       "      <td>97.4k</td>\n",
       "      <td>969.1m</td>\n",
       "      <td>Indonesia</td>\n",
       "    </tr>\n",
       "  </tbody>\n",
       "</table>\n",
       "</div>"
      ],
      "text/plain": [
       "     rank channel_info  influence_score  posts followers avg_likes  \\\n",
       "195   196    iambeckyg               71   2.3k     33.2m    623.8k   \n",
       "196   197   nancyajram               81   3.8k     33.2m    390.4k   \n",
       "197   198  luansantana               79  0.77k     33.2m    193.3k   \n",
       "198   199    nickjonas               78   2.3k     33.0m    719.6k   \n",
       "199   200    raisa6690               80   4.2k     32.8m    232.2k   \n",
       "\n",
       "    60_day_eng_rate new_post_avg_like total_likes        country  \n",
       "195           0.014            464.7k        1.4b  United States  \n",
       "196          0.0064            208.0k        1.5b         France  \n",
       "197          0.0026             82.6k      149.2m         Brazil  \n",
       "198          0.0142            467.7k        1.7b  United States  \n",
       "199           0.003             97.4k      969.1m      Indonesia  "
      ]
     },
     "execution_count": 4,
     "metadata": {},
     "output_type": "execute_result"
    }
   ],
   "source": [
    "# Print the last 5 rows of the dataframe\n",
    "influence.tail()"
   ]
  },
  {
   "cell_type": "code",
   "execution_count": 5,
   "id": "f0d09aa6",
   "metadata": {},
   "outputs": [
    {
     "data": {
      "text/plain": [
       "(200, 10)"
      ]
     },
     "execution_count": 5,
     "metadata": {},
     "output_type": "execute_result"
    }
   ],
   "source": [
    "# Print the shape of the dataframe\n",
    "influence.shape"
   ]
  },
  {
   "cell_type": "code",
   "execution_count": 6,
   "id": "21b29636",
   "metadata": {},
   "outputs": [
    {
     "name": "stdout",
     "output_type": "stream",
     "text": [
      "<class 'pandas.core.frame.DataFrame'>\n",
      "RangeIndex: 200 entries, 0 to 199\n",
      "Data columns (total 10 columns):\n",
      " #   Column             Non-Null Count  Dtype \n",
      "---  ------             --------------  ----- \n",
      " 0   rank               200 non-null    int64 \n",
      " 1   channel_info       200 non-null    object\n",
      " 2   influence_score    200 non-null    int64 \n",
      " 3   posts              200 non-null    object\n",
      " 4   followers          200 non-null    object\n",
      " 5   avg_likes          200 non-null    object\n",
      " 6   60_day_eng_rate    200 non-null    object\n",
      " 7   new_post_avg_like  200 non-null    object\n",
      " 8   total_likes        200 non-null    object\n",
      " 9   country            200 non-null    object\n",
      "dtypes: int64(2), object(8)\n",
      "memory usage: 15.8+ KB\n"
     ]
    }
   ],
   "source": [
    "# Print basic info about the dataframe\n",
    "influence.info()"
   ]
  },
  {
   "cell_type": "markdown",
   "id": "4c7ef7bf",
   "metadata": {},
   "source": [
    "Oberservation\n",
    "\n",
    "There are some columns that should be represented as integers such as, \"followers,\" \"posts,\" \"new_post_avg_like,\" \"total_likes,\" and \"avg_likes,\" but are currently in the string format. Therefore, we will convert these columns from strings to integers. "
   ]
  },
  {
   "cell_type": "code",
   "execution_count": 7,
   "id": "55a55025",
   "metadata": {},
   "outputs": [
    {
     "data": {
      "text/html": [
       "<div>\n",
       "<style scoped>\n",
       "    .dataframe tbody tr th:only-of-type {\n",
       "        vertical-align: middle;\n",
       "    }\n",
       "\n",
       "    .dataframe tbody tr th {\n",
       "        vertical-align: top;\n",
       "    }\n",
       "\n",
       "    .dataframe thead th {\n",
       "        text-align: right;\n",
       "    }\n",
       "</style>\n",
       "<table border=\"1\" class=\"dataframe\">\n",
       "  <thead>\n",
       "    <tr style=\"text-align: right;\">\n",
       "      <th></th>\n",
       "      <th>rank</th>\n",
       "      <th>influence_score</th>\n",
       "    </tr>\n",
       "  </thead>\n",
       "  <tbody>\n",
       "    <tr>\n",
       "      <th>count</th>\n",
       "      <td>200.000000</td>\n",
       "      <td>200.000000</td>\n",
       "    </tr>\n",
       "    <tr>\n",
       "      <th>mean</th>\n",
       "      <td>100.500000</td>\n",
       "      <td>81.820000</td>\n",
       "    </tr>\n",
       "    <tr>\n",
       "      <th>std</th>\n",
       "      <td>57.879185</td>\n",
       "      <td>8.878159</td>\n",
       "    </tr>\n",
       "    <tr>\n",
       "      <th>min</th>\n",
       "      <td>1.000000</td>\n",
       "      <td>22.000000</td>\n",
       "    </tr>\n",
       "    <tr>\n",
       "      <th>25%</th>\n",
       "      <td>50.750000</td>\n",
       "      <td>80.000000</td>\n",
       "    </tr>\n",
       "    <tr>\n",
       "      <th>50%</th>\n",
       "      <td>100.500000</td>\n",
       "      <td>84.000000</td>\n",
       "    </tr>\n",
       "    <tr>\n",
       "      <th>75%</th>\n",
       "      <td>150.250000</td>\n",
       "      <td>86.000000</td>\n",
       "    </tr>\n",
       "    <tr>\n",
       "      <th>max</th>\n",
       "      <td>200.000000</td>\n",
       "      <td>93.000000</td>\n",
       "    </tr>\n",
       "  </tbody>\n",
       "</table>\n",
       "</div>"
      ],
      "text/plain": [
       "             rank  influence_score\n",
       "count  200.000000       200.000000\n",
       "mean   100.500000        81.820000\n",
       "std     57.879185         8.878159\n",
       "min      1.000000        22.000000\n",
       "25%     50.750000        80.000000\n",
       "50%    100.500000        84.000000\n",
       "75%    150.250000        86.000000\n",
       "max    200.000000        93.000000"
      ]
     },
     "execution_count": 7,
     "metadata": {},
     "output_type": "execute_result"
    }
   ],
   "source": [
    "# Print summary statistics the dataframe\n",
    "influence.describe()"
   ]
  },
  {
   "cell_type": "markdown",
   "id": "7e51865d",
   "metadata": {},
   "source": [
    "Let's examine the dataframe for missing values and duplicated entries. If there are any, we'll perform the required operations to adrress them. "
   ]
  },
  {
   "cell_type": "code",
   "execution_count": 8,
   "id": "20ed48a3",
   "metadata": {},
   "outputs": [
    {
     "data": {
      "text/plain": [
       "rank                 False\n",
       "channel_info         False\n",
       "influence_score      False\n",
       "posts                False\n",
       "followers            False\n",
       "avg_likes            False\n",
       "60_day_eng_rate      False\n",
       "new_post_avg_like    False\n",
       "total_likes          False\n",
       "country              False\n",
       "dtype: bool"
      ]
     },
     "execution_count": 8,
     "metadata": {},
     "output_type": "execute_result"
    }
   ],
   "source": [
    "# Inspect the dataframe for missing values\n",
    "influence.isnull().any()"
   ]
  },
  {
   "cell_type": "code",
   "execution_count": 9,
   "id": "e6ffe090",
   "metadata": {},
   "outputs": [
    {
     "data": {
      "text/plain": [
       "0"
      ]
     },
     "execution_count": 9,
     "metadata": {},
     "output_type": "execute_result"
    }
   ],
   "source": [
    "influence.duplicated().sum()"
   ]
  },
  {
   "cell_type": "markdown",
   "id": "f620a6d8",
   "metadata": {},
   "source": [
    "Based on the examination of the dataframe, it evident that there are neither missing values nor duplicated entries. Therefore, we can proceed with our analysis. As a precautionary step, we'll make a copy of the dataframe to ensure data integrity and preservation in case of any data loss or accidental modifications during the analysis"
   ]
  },
  {
   "cell_type": "code",
   "execution_count": 10,
   "id": "4a025545",
   "metadata": {},
   "outputs": [
    {
     "data": {
      "text/html": [
       "<div>\n",
       "<style scoped>\n",
       "    .dataframe tbody tr th:only-of-type {\n",
       "        vertical-align: middle;\n",
       "    }\n",
       "\n",
       "    .dataframe tbody tr th {\n",
       "        vertical-align: top;\n",
       "    }\n",
       "\n",
       "    .dataframe thead th {\n",
       "        text-align: right;\n",
       "    }\n",
       "</style>\n",
       "<table border=\"1\" class=\"dataframe\">\n",
       "  <thead>\n",
       "    <tr style=\"text-align: right;\">\n",
       "      <th></th>\n",
       "      <th>rank</th>\n",
       "      <th>channel_info</th>\n",
       "      <th>influence_score</th>\n",
       "      <th>posts</th>\n",
       "      <th>followers</th>\n",
       "      <th>avg_likes</th>\n",
       "      <th>60_day_eng_rate</th>\n",
       "      <th>new_post_avg_like</th>\n",
       "      <th>total_likes</th>\n",
       "      <th>country</th>\n",
       "    </tr>\n",
       "  </thead>\n",
       "  <tbody>\n",
       "    <tr>\n",
       "      <th>0</th>\n",
       "      <td>1</td>\n",
       "      <td>cristiano</td>\n",
       "      <td>92</td>\n",
       "      <td>3.3k</td>\n",
       "      <td>475.8m</td>\n",
       "      <td>8.7m</td>\n",
       "      <td>0.0139</td>\n",
       "      <td>6.5m</td>\n",
       "      <td>29.0b</td>\n",
       "      <td>Portugal</td>\n",
       "    </tr>\n",
       "    <tr>\n",
       "      <th>1</th>\n",
       "      <td>2</td>\n",
       "      <td>kyliejenner</td>\n",
       "      <td>91</td>\n",
       "      <td>6.9k</td>\n",
       "      <td>366.2m</td>\n",
       "      <td>8.3m</td>\n",
       "      <td>0.0162</td>\n",
       "      <td>5.9m</td>\n",
       "      <td>57.4b</td>\n",
       "      <td>United States</td>\n",
       "    </tr>\n",
       "    <tr>\n",
       "      <th>2</th>\n",
       "      <td>3</td>\n",
       "      <td>leomessi</td>\n",
       "      <td>90</td>\n",
       "      <td>0.89k</td>\n",
       "      <td>357.3m</td>\n",
       "      <td>6.8m</td>\n",
       "      <td>0.0124</td>\n",
       "      <td>4.4m</td>\n",
       "      <td>6.0b</td>\n",
       "      <td>Argentina</td>\n",
       "    </tr>\n",
       "    <tr>\n",
       "      <th>3</th>\n",
       "      <td>4</td>\n",
       "      <td>selenagomez</td>\n",
       "      <td>93</td>\n",
       "      <td>1.8k</td>\n",
       "      <td>342.7m</td>\n",
       "      <td>6.2m</td>\n",
       "      <td>0.0097</td>\n",
       "      <td>3.3m</td>\n",
       "      <td>11.5b</td>\n",
       "      <td>United States</td>\n",
       "    </tr>\n",
       "    <tr>\n",
       "      <th>4</th>\n",
       "      <td>5</td>\n",
       "      <td>therock</td>\n",
       "      <td>91</td>\n",
       "      <td>6.8k</td>\n",
       "      <td>334.1m</td>\n",
       "      <td>1.9m</td>\n",
       "      <td>0.002</td>\n",
       "      <td>665.3k</td>\n",
       "      <td>12.5b</td>\n",
       "      <td>United States</td>\n",
       "    </tr>\n",
       "  </tbody>\n",
       "</table>\n",
       "</div>"
      ],
      "text/plain": [
       "   rank channel_info  influence_score  posts followers avg_likes  \\\n",
       "0     1    cristiano               92   3.3k    475.8m      8.7m   \n",
       "1     2  kyliejenner               91   6.9k    366.2m      8.3m   \n",
       "2     3     leomessi               90  0.89k    357.3m      6.8m   \n",
       "3     4  selenagomez               93   1.8k    342.7m      6.2m   \n",
       "4     5      therock               91   6.8k    334.1m      1.9m   \n",
       "\n",
       "  60_day_eng_rate new_post_avg_like total_likes        country  \n",
       "0          0.0139              6.5m       29.0b       Portugal  \n",
       "1          0.0162              5.9m       57.4b  United States  \n",
       "2          0.0124              4.4m        6.0b      Argentina  \n",
       "3          0.0097              3.3m       11.5b  United States  \n",
       "4           0.002            665.3k       12.5b  United States  "
      ]
     },
     "execution_count": 10,
     "metadata": {},
     "output_type": "execute_result"
    }
   ],
   "source": [
    "# Make a copy of the dataframe\n",
    "influence_copy = influence.copy()\n",
    "influence_copy.head()"
   ]
  },
  {
   "cell_type": "markdown",
   "id": "9f4b2173",
   "metadata": {},
   "source": [
    "As part of our data cleaning process, we will proceed to drop columns that are irrelevant to our analysis. In this case, we will remove the \"rank\" column from the dataframe since this column does not contribute to the insights we seek to gain"
   ]
  },
  {
   "cell_type": "code",
   "execution_count": 11,
   "id": "b55be162",
   "metadata": {},
   "outputs": [
    {
     "data": {
      "text/html": [
       "<div>\n",
       "<style scoped>\n",
       "    .dataframe tbody tr th:only-of-type {\n",
       "        vertical-align: middle;\n",
       "    }\n",
       "\n",
       "    .dataframe tbody tr th {\n",
       "        vertical-align: top;\n",
       "    }\n",
       "\n",
       "    .dataframe thead th {\n",
       "        text-align: right;\n",
       "    }\n",
       "</style>\n",
       "<table border=\"1\" class=\"dataframe\">\n",
       "  <thead>\n",
       "    <tr style=\"text-align: right;\">\n",
       "      <th></th>\n",
       "      <th>channel_info</th>\n",
       "      <th>influence_score</th>\n",
       "      <th>posts</th>\n",
       "      <th>followers</th>\n",
       "      <th>avg_likes</th>\n",
       "      <th>60_day_eng_rate</th>\n",
       "      <th>new_post_avg_like</th>\n",
       "      <th>total_likes</th>\n",
       "      <th>country</th>\n",
       "    </tr>\n",
       "  </thead>\n",
       "  <tbody>\n",
       "    <tr>\n",
       "      <th>0</th>\n",
       "      <td>cristiano</td>\n",
       "      <td>92</td>\n",
       "      <td>3.3k</td>\n",
       "      <td>475.8m</td>\n",
       "      <td>8.7m</td>\n",
       "      <td>0.0139</td>\n",
       "      <td>6.5m</td>\n",
       "      <td>29.0b</td>\n",
       "      <td>Portugal</td>\n",
       "    </tr>\n",
       "    <tr>\n",
       "      <th>1</th>\n",
       "      <td>kyliejenner</td>\n",
       "      <td>91</td>\n",
       "      <td>6.9k</td>\n",
       "      <td>366.2m</td>\n",
       "      <td>8.3m</td>\n",
       "      <td>0.0162</td>\n",
       "      <td>5.9m</td>\n",
       "      <td>57.4b</td>\n",
       "      <td>United States</td>\n",
       "    </tr>\n",
       "    <tr>\n",
       "      <th>2</th>\n",
       "      <td>leomessi</td>\n",
       "      <td>90</td>\n",
       "      <td>0.89k</td>\n",
       "      <td>357.3m</td>\n",
       "      <td>6.8m</td>\n",
       "      <td>0.0124</td>\n",
       "      <td>4.4m</td>\n",
       "      <td>6.0b</td>\n",
       "      <td>Argentina</td>\n",
       "    </tr>\n",
       "    <tr>\n",
       "      <th>3</th>\n",
       "      <td>selenagomez</td>\n",
       "      <td>93</td>\n",
       "      <td>1.8k</td>\n",
       "      <td>342.7m</td>\n",
       "      <td>6.2m</td>\n",
       "      <td>0.0097</td>\n",
       "      <td>3.3m</td>\n",
       "      <td>11.5b</td>\n",
       "      <td>United States</td>\n",
       "    </tr>\n",
       "    <tr>\n",
       "      <th>4</th>\n",
       "      <td>therock</td>\n",
       "      <td>91</td>\n",
       "      <td>6.8k</td>\n",
       "      <td>334.1m</td>\n",
       "      <td>1.9m</td>\n",
       "      <td>0.002</td>\n",
       "      <td>665.3k</td>\n",
       "      <td>12.5b</td>\n",
       "      <td>United States</td>\n",
       "    </tr>\n",
       "  </tbody>\n",
       "</table>\n",
       "</div>"
      ],
      "text/plain": [
       "  channel_info  influence_score  posts followers avg_likes 60_day_eng_rate  \\\n",
       "0    cristiano               92   3.3k    475.8m      8.7m          0.0139   \n",
       "1  kyliejenner               91   6.9k    366.2m      8.3m          0.0162   \n",
       "2     leomessi               90  0.89k    357.3m      6.8m          0.0124   \n",
       "3  selenagomez               93   1.8k    342.7m      6.2m          0.0097   \n",
       "4      therock               91   6.8k    334.1m      1.9m           0.002   \n",
       "\n",
       "  new_post_avg_like total_likes        country  \n",
       "0              6.5m       29.0b       Portugal  \n",
       "1              5.9m       57.4b  United States  \n",
       "2              4.4m        6.0b      Argentina  \n",
       "3              3.3m       11.5b  United States  \n",
       "4            665.3k       12.5b  United States  "
      ]
     },
     "execution_count": 11,
     "metadata": {},
     "output_type": "execute_result"
    }
   ],
   "source": [
    "# Remove the \"rank\" column from the dataframe\n",
    "influence_copy.drop('rank', axis=1, inplace=True)\n",
    "influence_copy.head()"
   ]
  },
  {
   "cell_type": "markdown",
   "id": "2a42fae9",
   "metadata": {},
   "source": [
    "To obtain the insights we intend to generate, we need to work with certain columns, namely 'followers', 'posts', 'total_likes,' and 'avg_likes,' which are currently in string format and not in the desired numeric format (float). To rectify this, we will convert these columns from strings to floats"
   ]
  },
  {
   "cell_type": "code",
   "execution_count": 12,
   "id": "0772b1de",
   "metadata": {},
   "outputs": [],
   "source": [
    "# Convert the \"total_likes\" column from string to float\n",
    "replace_dict = {'b':'e9', 'm':'e6'}\n",
    "influence_copy['overall_likes'] = influence_copy['total_likes'].replace(replace_dict, regex=True).astype(float)\n",
    "\n",
    "# Convert the \"posts\" column from string to float\n",
    "influence_copy['total_posts'] = influence_copy['posts'].str.replace(\"k\", \"e3\").astype(float)\n",
    "\n",
    "# Convert the \"followers\" column from string to float\n",
    "influence_copy['no_of_followers'] = influence_copy['followers'].str.replace(\"m\", \"e6\").astype(float)\n",
    "\n",
    "# Convert the \"avg_likes\" column from string to float\n",
    "substitutes = {'m':'e6', 'k':'e3'}\n",
    "influence_copy['average_likes'] = influence_copy['avg_likes'].replace(substitutes, regex=True).astype(float)\n",
    "\n"
   ]
  },
  {
   "cell_type": "markdown",
   "id": "1514a462",
   "metadata": {},
   "source": [
    "Now that we have successfully transformed our desired columns into the appropriate format, it is essential to maintain data integrity and accuracy by removing the old columns from the dataset"
   ]
  },
  {
   "cell_type": "code",
   "execution_count": 13,
   "id": "faea189b",
   "metadata": {},
   "outputs": [
    {
     "data": {
      "text/html": [
       "<div>\n",
       "<style scoped>\n",
       "    .dataframe tbody tr th:only-of-type {\n",
       "        vertical-align: middle;\n",
       "    }\n",
       "\n",
       "    .dataframe tbody tr th {\n",
       "        vertical-align: top;\n",
       "    }\n",
       "\n",
       "    .dataframe thead th {\n",
       "        text-align: right;\n",
       "    }\n",
       "</style>\n",
       "<table border=\"1\" class=\"dataframe\">\n",
       "  <thead>\n",
       "    <tr style=\"text-align: right;\">\n",
       "      <th></th>\n",
       "      <th>channel_info</th>\n",
       "      <th>influence_score</th>\n",
       "      <th>60_day_eng_rate</th>\n",
       "      <th>new_post_avg_like</th>\n",
       "      <th>country</th>\n",
       "      <th>overall_likes</th>\n",
       "      <th>total_posts</th>\n",
       "      <th>no_of_followers</th>\n",
       "      <th>average_likes</th>\n",
       "    </tr>\n",
       "  </thead>\n",
       "  <tbody>\n",
       "    <tr>\n",
       "      <th>0</th>\n",
       "      <td>cristiano</td>\n",
       "      <td>92</td>\n",
       "      <td>0.0139</td>\n",
       "      <td>6.5m</td>\n",
       "      <td>Portugal</td>\n",
       "      <td>2.900000e+10</td>\n",
       "      <td>3300.0</td>\n",
       "      <td>475800000.0</td>\n",
       "      <td>8700000.0</td>\n",
       "    </tr>\n",
       "    <tr>\n",
       "      <th>1</th>\n",
       "      <td>kyliejenner</td>\n",
       "      <td>91</td>\n",
       "      <td>0.0162</td>\n",
       "      <td>5.9m</td>\n",
       "      <td>United States</td>\n",
       "      <td>5.740000e+10</td>\n",
       "      <td>6900.0</td>\n",
       "      <td>366200000.0</td>\n",
       "      <td>8300000.0</td>\n",
       "    </tr>\n",
       "    <tr>\n",
       "      <th>2</th>\n",
       "      <td>leomessi</td>\n",
       "      <td>90</td>\n",
       "      <td>0.0124</td>\n",
       "      <td>4.4m</td>\n",
       "      <td>Argentina</td>\n",
       "      <td>6.000000e+09</td>\n",
       "      <td>890.0</td>\n",
       "      <td>357300000.0</td>\n",
       "      <td>6800000.0</td>\n",
       "    </tr>\n",
       "    <tr>\n",
       "      <th>3</th>\n",
       "      <td>selenagomez</td>\n",
       "      <td>93</td>\n",
       "      <td>0.0097</td>\n",
       "      <td>3.3m</td>\n",
       "      <td>United States</td>\n",
       "      <td>1.150000e+10</td>\n",
       "      <td>1800.0</td>\n",
       "      <td>342700000.0</td>\n",
       "      <td>6200000.0</td>\n",
       "    </tr>\n",
       "    <tr>\n",
       "      <th>4</th>\n",
       "      <td>therock</td>\n",
       "      <td>91</td>\n",
       "      <td>0.002</td>\n",
       "      <td>665.3k</td>\n",
       "      <td>United States</td>\n",
       "      <td>1.250000e+10</td>\n",
       "      <td>6800.0</td>\n",
       "      <td>334100000.0</td>\n",
       "      <td>1900000.0</td>\n",
       "    </tr>\n",
       "  </tbody>\n",
       "</table>\n",
       "</div>"
      ],
      "text/plain": [
       "  channel_info  influence_score 60_day_eng_rate new_post_avg_like  \\\n",
       "0    cristiano               92          0.0139              6.5m   \n",
       "1  kyliejenner               91          0.0162              5.9m   \n",
       "2     leomessi               90          0.0124              4.4m   \n",
       "3  selenagomez               93          0.0097              3.3m   \n",
       "4      therock               91           0.002            665.3k   \n",
       "\n",
       "         country  overall_likes  total_posts  no_of_followers  average_likes  \n",
       "0       Portugal   2.900000e+10       3300.0      475800000.0      8700000.0  \n",
       "1  United States   5.740000e+10       6900.0      366200000.0      8300000.0  \n",
       "2      Argentina   6.000000e+09        890.0      357300000.0      6800000.0  \n",
       "3  United States   1.150000e+10       1800.0      342700000.0      6200000.0  \n",
       "4  United States   1.250000e+10       6800.0      334100000.0      1900000.0  "
      ]
     },
     "execution_count": 13,
     "metadata": {},
     "output_type": "execute_result"
    }
   ],
   "source": [
    "# Remove the old columns from the dataframe\n",
    "unneeded_columns = [ 'posts', 'followers', 'avg_likes', 'total_likes']\n",
    "influence_copy.drop(unneeded_columns, axis=1, inplace=True)\n",
    "influence_copy.head()"
   ]
  },
  {
   "cell_type": "markdown",
   "id": "5b2f34ca",
   "metadata": {},
   "source": [
    "The next thing we will do is to check for outliers in our desired columns "
   ]
  },
  {
   "cell_type": "code",
   "execution_count": 14,
   "id": "cafb26df",
   "metadata": {},
   "outputs": [
    {
     "data": {
      "image/png": "[encoded data removed]",
      "text/plain": [
       "<Figure size 720x288 with 4 Axes>"
      ]
     },
     "metadata": {
      "needs_background": "light"
     },
     "output_type": "display_data"
    }
   ],
   "source": [
    "fig, ax = plt.subplots(nrows=1, ncols=4, figsize=(10, 4))\n",
    "sns.boxplot(data=influence_copy, y='overall_likes', ax=ax[0])\n",
    "sns.boxplot(data=influence_copy, y='total_posts', ax=ax[1])\n",
    "sns.boxplot(data=influence_copy, y='no_of_followers', ax=ax[2])\n",
    "sns.boxplot(data=influence_copy, y='average_likes', ax=ax[3]);\n",
    "\n",
    "fig.subplots_adjust(hspace=0.5, wspace=0.7)\n"
   ]
  },
  {
   "cell_type": "markdown",
   "id": "e95a305d",
   "metadata": {},
   "source": [
    "The analysis identifies outliers in the data, but due to the small dataset size of 200 rows and the dynamic nature of social media platforms like Instagram, where viral content and celebrity influencers can significantly impact metrics such as number of followers, total likes, number of posts, and average likes, resulting in the presence of extreme values, we have made a deliberate decision to treat these data points as genuine observations. By retaining these outliers, our analysis is better equipped to capture the full range of variations and nuances present in the data, leading to a more comprehensive understanding of user behavior and platform dynamics.\n",
    "\n",
    "\n",
    "Now, before delving into answering our research questions, we will define essential Key Performance Indicators (KPIs):\n",
    "1. Number of channels/influencers\n",
    "2. Number of countries\n",
    "3. Average total Likes\n",
    "4. Average number of posts\n",
    "5. Average number of followers"
   ]
  },
  {
   "cell_type": "code",
   "execution_count": 15,
   "id": "e2e7c6a1",
   "metadata": {},
   "outputs": [
    {
     "data": {
      "text/plain": [
       "200"
      ]
     },
     "execution_count": 15,
     "metadata": {},
     "output_type": "execute_result"
    }
   ],
   "source": [
    "# Get the total number of the channels/influencers\n",
    "channels = influence_copy['channel_info'].nunique()\n",
    "channels"
   ]
  },
  {
   "cell_type": "code",
   "execution_count": 16,
   "id": "580682b7",
   "metadata": {},
   "outputs": [
    {
     "data": {
      "text/plain": [
       "29"
      ]
     },
     "execution_count": 16,
     "metadata": {},
     "output_type": "execute_result"
    }
   ],
   "source": [
    "# Get the total number of country of origin of the channels/influencers\n",
    "countries = influence_copy['country'].nunique()\n",
    "countries"
   ]
  },
  {
   "cell_type": "code",
   "execution_count": 17,
   "id": "eecf5f30",
   "metadata": {},
   "outputs": [
    {
     "data": {
      "text/plain": [
       "3.66"
      ]
     },
     "execution_count": 17,
     "metadata": {},
     "output_type": "execute_result"
    }
   ],
   "source": [
    "# Get the average number of total likes accumulated made by the channels/influencers\n",
    "average_total_likes = round(influence_copy['overall_likes'].mean()/1000000000, 2) \n",
    "average_total_likes"
   ]
  },
  {
   "cell_type": "code",
   "execution_count": 18,
   "id": "1e9ce630",
   "metadata": {},
   "outputs": [
    {
     "data": {
      "text/plain": [
       "3.5"
      ]
     },
     "execution_count": 18,
     "metadata": {},
     "output_type": "execute_result"
    }
   ],
   "source": [
    "# Get the average number of posts made by the channels/influencers\n",
    "average_posts =  round(influence_copy['total_posts'].mean()/1000, 1) \n",
    "average_posts"
   ]
  },
  {
   "cell_type": "code",
   "execution_count": 19,
   "id": "8e144ab1",
   "metadata": {},
   "outputs": [
    {
     "data": {
      "text/plain": [
       "77.41"
      ]
     },
     "execution_count": 19,
     "metadata": {},
     "output_type": "execute_result"
    }
   ],
   "source": [
    "# Get the average number of followers of the channels/influencers\n",
    "average_followers = round(influence_copy['no_of_followers'].mean()/1000000, 2) \n",
    "average_followers"
   ]
  },
  {
   "cell_type": "markdown",
   "id": "9e06b1ec",
   "metadata": {},
   "source": [
    "With these KPIs established, we can now proceed with our analysis to address our research questions "
   ]
  },
  {
   "cell_type": "markdown",
   "id": "de852caa",
   "metadata": {},
   "source": [
    "**QUESTION 1**: Who are the top 5 most popular influencers?"
   ]
  },
  {
   "cell_type": "code",
   "execution_count": 20,
   "id": "40ede245",
   "metadata": {},
   "outputs": [
    {
     "data": {
      "text/html": [
       "<div>\n",
       "<style scoped>\n",
       "    .dataframe tbody tr th:only-of-type {\n",
       "        vertical-align: middle;\n",
       "    }\n",
       "\n",
       "    .dataframe tbody tr th {\n",
       "        vertical-align: top;\n",
       "    }\n",
       "\n",
       "    .dataframe thead th {\n",
       "        text-align: right;\n",
       "    }\n",
       "</style>\n",
       "<table border=\"1\" class=\"dataframe\">\n",
       "  <thead>\n",
       "    <tr style=\"text-align: right;\">\n",
       "      <th></th>\n",
       "      <th>channel_info</th>\n",
       "      <th>no_of_followers</th>\n",
       "    </tr>\n",
       "  </thead>\n",
       "  <tbody>\n",
       "    <tr>\n",
       "      <th>0</th>\n",
       "      <td>cristiano</td>\n",
       "      <td>475800000.0</td>\n",
       "    </tr>\n",
       "    <tr>\n",
       "      <th>1</th>\n",
       "      <td>kyliejenner</td>\n",
       "      <td>366200000.0</td>\n",
       "    </tr>\n",
       "    <tr>\n",
       "      <th>2</th>\n",
       "      <td>leomessi</td>\n",
       "      <td>357300000.0</td>\n",
       "    </tr>\n",
       "    <tr>\n",
       "      <th>3</th>\n",
       "      <td>selenagomez</td>\n",
       "      <td>342700000.0</td>\n",
       "    </tr>\n",
       "    <tr>\n",
       "      <th>4</th>\n",
       "      <td>therock</td>\n",
       "      <td>334100000.0</td>\n",
       "    </tr>\n",
       "  </tbody>\n",
       "</table>\n",
       "</div>"
      ],
      "text/plain": [
       "  channel_info  no_of_followers\n",
       "0    cristiano      475800000.0\n",
       "1  kyliejenner      366200000.0\n",
       "2     leomessi      357300000.0\n",
       "3  selenagomez      342700000.0\n",
       "4      therock      334100000.0"
      ]
     },
     "execution_count": 20,
     "metadata": {},
     "output_type": "execute_result"
    }
   ],
   "source": [
    "# Get the top 5 most popular influencers\n",
    "top_influencers = influence_copy.nlargest(5,  'no_of_followers')[['channel_info', 'no_of_followers']]\n",
    "top_influencers"
   ]
  },
  {
   "cell_type": "markdown",
   "id": "9d079e6b",
   "metadata": {},
   "source": [
    "**QUESTION 2**: Who are the top 5 most active influencers?"
   ]
  },
  {
   "cell_type": "code",
   "execution_count": 21,
   "id": "4883a065",
   "metadata": {},
   "outputs": [
    {
     "data": {
      "text/html": [
       "<div>\n",
       "<style scoped>\n",
       "    .dataframe tbody tr th:only-of-type {\n",
       "        vertical-align: middle;\n",
       "    }\n",
       "\n",
       "    .dataframe tbody tr th {\n",
       "        vertical-align: top;\n",
       "    }\n",
       "\n",
       "    .dataframe thead th {\n",
       "        text-align: right;\n",
       "    }\n",
       "</style>\n",
       "<table border=\"1\" class=\"dataframe\">\n",
       "  <thead>\n",
       "    <tr style=\"text-align: right;\">\n",
       "      <th></th>\n",
       "      <th>channel_info</th>\n",
       "      <th>total_posts</th>\n",
       "    </tr>\n",
       "  </thead>\n",
       "  <tbody>\n",
       "    <tr>\n",
       "      <th>62</th>\n",
       "      <td>raffinagita1717</td>\n",
       "      <td>17500.0</td>\n",
       "    </tr>\n",
       "    <tr>\n",
       "      <th>123</th>\n",
       "      <td>natgeotravel</td>\n",
       "      <td>16900.0</td>\n",
       "    </tr>\n",
       "    <tr>\n",
       "      <th>159</th>\n",
       "      <td>ruben_onsu</td>\n",
       "      <td>13400.0</td>\n",
       "    </tr>\n",
       "    <tr>\n",
       "      <th>47</th>\n",
       "      <td>nba</td>\n",
       "      <td>12900.0</td>\n",
       "    </tr>\n",
       "    <tr>\n",
       "      <th>153</th>\n",
       "      <td>worldstar</td>\n",
       "      <td>11600.0</td>\n",
       "    </tr>\n",
       "  </tbody>\n",
       "</table>\n",
       "</div>"
      ],
      "text/plain": [
       "        channel_info  total_posts\n",
       "62   raffinagita1717      17500.0\n",
       "123     natgeotravel      16900.0\n",
       "159       ruben_onsu      13400.0\n",
       "47               nba      12900.0\n",
       "153        worldstar      11600.0"
      ]
     },
     "execution_count": 21,
     "metadata": {},
     "output_type": "execute_result"
    }
   ],
   "source": [
    "# Get the top 5 most active influencers\n",
    "most_active_influencers = influence_copy.nlargest(5, 'total_posts')[['channel_info', 'total_posts']]\n",
    "most_active_influencers"
   ]
  },
  {
   "cell_type": "markdown",
   "id": "419ed439",
   "metadata": {},
   "source": [
    "**QUESTION 3**: Who are the top 5 influencers with highest number of engagements?"
   ]
  },
  {
   "cell_type": "code",
   "execution_count": 22,
   "id": "8d1ac8de",
   "metadata": {},
   "outputs": [
    {
     "data": {
      "text/html": [
       "<div>\n",
       "<style scoped>\n",
       "    .dataframe tbody tr th:only-of-type {\n",
       "        vertical-align: middle;\n",
       "    }\n",
       "\n",
       "    .dataframe tbody tr th {\n",
       "        vertical-align: top;\n",
       "    }\n",
       "\n",
       "    .dataframe thead th {\n",
       "        text-align: right;\n",
       "    }\n",
       "</style>\n",
       "<table border=\"1\" class=\"dataframe\">\n",
       "  <thead>\n",
       "    <tr style=\"text-align: right;\">\n",
       "      <th></th>\n",
       "      <th>channel_info</th>\n",
       "      <th>overall_likes</th>\n",
       "    </tr>\n",
       "  </thead>\n",
       "  <tbody>\n",
       "    <tr>\n",
       "      <th>1</th>\n",
       "      <td>kyliejenner</td>\n",
       "      <td>5.740000e+10</td>\n",
       "    </tr>\n",
       "    <tr>\n",
       "      <th>0</th>\n",
       "      <td>cristiano</td>\n",
       "      <td>2.900000e+10</td>\n",
       "    </tr>\n",
       "    <tr>\n",
       "      <th>22</th>\n",
       "      <td>zendaya</td>\n",
       "      <td>2.060000e+10</td>\n",
       "    </tr>\n",
       "    <tr>\n",
       "      <th>5</th>\n",
       "      <td>kimkardashian</td>\n",
       "      <td>1.990000e+10</td>\n",
       "    </tr>\n",
       "    <tr>\n",
       "      <th>6</th>\n",
       "      <td>arianagrande</td>\n",
       "      <td>1.840000e+10</td>\n",
       "    </tr>\n",
       "  </tbody>\n",
       "</table>\n",
       "</div>"
      ],
      "text/plain": [
       "     channel_info  overall_likes\n",
       "1     kyliejenner   5.740000e+10\n",
       "0       cristiano   2.900000e+10\n",
       "22        zendaya   2.060000e+10\n",
       "5   kimkardashian   1.990000e+10\n",
       "6    arianagrande   1.840000e+10"
      ]
     },
     "execution_count": 22,
     "metadata": {},
     "output_type": "execute_result"
    }
   ],
   "source": [
    "# Get the top 5 influencers with highest number of engagements\n",
    "most_engaged_influencers = influence_copy.nlargest(5, 'overall_likes')[['channel_info', 'overall_likes']]\n",
    "most_engaged_influencers"
   ]
  },
  {
   "cell_type": "markdown",
   "id": "c925b5eb",
   "metadata": {},
   "source": [
    "**QUESTION 4**: What are the top 10 countries with the highest number of influencers?"
   ]
  },
  {
   "cell_type": "code",
   "execution_count": 23,
   "id": "ef5b7265",
   "metadata": {},
   "outputs": [
    {
     "data": {
      "text/html": [
       "<div>\n",
       "<style scoped>\n",
       "    .dataframe tbody tr th:only-of-type {\n",
       "        vertical-align: middle;\n",
       "    }\n",
       "\n",
       "    .dataframe tbody tr th {\n",
       "        vertical-align: top;\n",
       "    }\n",
       "\n",
       "    .dataframe thead th {\n",
       "        text-align: right;\n",
       "    }\n",
       "</style>\n",
       "<table border=\"1\" class=\"dataframe\">\n",
       "  <thead>\n",
       "    <tr style=\"text-align: right;\">\n",
       "      <th></th>\n",
       "      <th>country</th>\n",
       "      <th># of influencers</th>\n",
       "    </tr>\n",
       "  </thead>\n",
       "  <tbody>\n",
       "    <tr>\n",
       "      <th>0</th>\n",
       "      <td>United States</td>\n",
       "      <td>83</td>\n",
       "    </tr>\n",
       "    <tr>\n",
       "      <th>1</th>\n",
       "      <td>India</td>\n",
       "      <td>24</td>\n",
       "    </tr>\n",
       "    <tr>\n",
       "      <th>2</th>\n",
       "      <td>Brazil</td>\n",
       "      <td>15</td>\n",
       "    </tr>\n",
       "    <tr>\n",
       "      <th>3</th>\n",
       "      <td>Indonesia</td>\n",
       "      <td>11</td>\n",
       "    </tr>\n",
       "    <tr>\n",
       "      <th>4</th>\n",
       "      <td>France</td>\n",
       "      <td>8</td>\n",
       "    </tr>\n",
       "    <tr>\n",
       "      <th>5</th>\n",
       "      <td>Spain</td>\n",
       "      <td>7</td>\n",
       "    </tr>\n",
       "    <tr>\n",
       "      <th>6</th>\n",
       "      <td>South Korea</td>\n",
       "      <td>7</td>\n",
       "    </tr>\n",
       "    <tr>\n",
       "      <th>7</th>\n",
       "      <td>United Kingdom</td>\n",
       "      <td>6</td>\n",
       "    </tr>\n",
       "    <tr>\n",
       "      <th>8</th>\n",
       "      <td>Canada</td>\n",
       "      <td>5</td>\n",
       "    </tr>\n",
       "    <tr>\n",
       "      <th>9</th>\n",
       "      <td>Germany</td>\n",
       "      <td>4</td>\n",
       "    </tr>\n",
       "  </tbody>\n",
       "</table>\n",
       "</div>"
      ],
      "text/plain": [
       "          country  # of influencers\n",
       "0   United States                83\n",
       "1           India                24\n",
       "2          Brazil                15\n",
       "3       Indonesia                11\n",
       "4          France                 8\n",
       "5           Spain                 7\n",
       "6     South Korea                 7\n",
       "7  United Kingdom                 6\n",
       "8          Canada                 5\n",
       "9         Germany                 4"
      ]
     },
     "execution_count": 23,
     "metadata": {},
     "output_type": "execute_result"
    }
   ],
   "source": [
    "# Get the top 10 countries with the highest number of influencers\n",
    "influencers_origin = influence_copy['country'].value_counts().nlargest(10).reset_index()\n",
    "influencers_origin.columns = ['country', '# of influencers']\n",
    "influencers_origin"
   ]
  },
  {
   "cell_type": "markdown",
   "id": "3ca3e2f3",
   "metadata": {},
   "source": [
    "**QUESTION 5**: Who are the top 5 influencers with the highest influence score?"
   ]
  },
  {
   "cell_type": "code",
   "execution_count": 24,
   "id": "8f3d1981",
   "metadata": {},
   "outputs": [
    {
     "data": {
      "text/html": [
       "<div>\n",
       "<style scoped>\n",
       "    .dataframe tbody tr th:only-of-type {\n",
       "        vertical-align: middle;\n",
       "    }\n",
       "\n",
       "    .dataframe tbody tr th {\n",
       "        vertical-align: top;\n",
       "    }\n",
       "\n",
       "    .dataframe thead th {\n",
       "        text-align: right;\n",
       "    }\n",
       "</style>\n",
       "<table border=\"1\" class=\"dataframe\">\n",
       "  <thead>\n",
       "    <tr style=\"text-align: right;\">\n",
       "      <th></th>\n",
       "      <th>channel_info</th>\n",
       "      <th>influence_score</th>\n",
       "    </tr>\n",
       "  </thead>\n",
       "  <tbody>\n",
       "    <tr>\n",
       "      <th>3</th>\n",
       "      <td>selenagomez</td>\n",
       "      <td>93</td>\n",
       "    </tr>\n",
       "    <tr>\n",
       "      <th>0</th>\n",
       "      <td>cristiano</td>\n",
       "      <td>92</td>\n",
       "    </tr>\n",
       "    <tr>\n",
       "      <th>6</th>\n",
       "      <td>arianagrande</td>\n",
       "      <td>92</td>\n",
       "    </tr>\n",
       "    <tr>\n",
       "      <th>7</th>\n",
       "      <td>beyonce</td>\n",
       "      <td>92</td>\n",
       "    </tr>\n",
       "    <tr>\n",
       "      <th>20</th>\n",
       "      <td>katyperry</td>\n",
       "      <td>92</td>\n",
       "    </tr>\n",
       "  </tbody>\n",
       "</table>\n",
       "</div>"
      ],
      "text/plain": [
       "    channel_info  influence_score\n",
       "3    selenagomez               93\n",
       "0      cristiano               92\n",
       "6   arianagrande               92\n",
       "7        beyonce               92\n",
       "20     katyperry               92"
      ]
     },
     "execution_count": 24,
     "metadata": {},
     "output_type": "execute_result"
    }
   ],
   "source": [
    "# Get the top 5 influencers with the highest influence score\n",
    "most_influencial = influence_copy.nlargest(5,'influence_score')[['channel_info', 'influence_score']]\n",
    "most_influencial"
   ]
  },
  {
   "cell_type": "markdown",
   "id": "96d5d9f8",
   "metadata": {},
   "source": [
    "**QUESTION 6**: Are there any relationships between popularity(followers), activity (posts) and engagement(likes)?"
   ]
  },
  {
   "cell_type": "code",
   "execution_count": 25,
   "id": "61f3d434",
   "metadata": {},
   "outputs": [
    {
     "data": {
      "text/html": [
       "<div>\n",
       "<style scoped>\n",
       "    .dataframe tbody tr th:only-of-type {\n",
       "        vertical-align: middle;\n",
       "    }\n",
       "\n",
       "    .dataframe tbody tr th {\n",
       "        vertical-align: top;\n",
       "    }\n",
       "\n",
       "    .dataframe thead th {\n",
       "        text-align: right;\n",
       "    }\n",
       "</style>\n",
       "<table border=\"1\" class=\"dataframe\">\n",
       "  <thead>\n",
       "    <tr style=\"text-align: right;\">\n",
       "      <th></th>\n",
       "      <th>no_of_followers</th>\n",
       "      <th>total_posts</th>\n",
       "      <th>average_likes</th>\n",
       "    </tr>\n",
       "  </thead>\n",
       "  <tbody>\n",
       "    <tr>\n",
       "      <th>no_of_followers</th>\n",
       "      <td>1.000000</td>\n",
       "      <td>0.060398</td>\n",
       "      <td>0.349195</td>\n",
       "    </tr>\n",
       "    <tr>\n",
       "      <th>total_posts</th>\n",
       "      <td>0.060398</td>\n",
       "      <td>1.000000</td>\n",
       "      <td>-0.343087</td>\n",
       "    </tr>\n",
       "    <tr>\n",
       "      <th>average_likes</th>\n",
       "      <td>0.349195</td>\n",
       "      <td>-0.343087</td>\n",
       "      <td>1.000000</td>\n",
       "    </tr>\n",
       "  </tbody>\n",
       "</table>\n",
       "</div>"
      ],
      "text/plain": [
       "                 no_of_followers  total_posts  average_likes\n",
       "no_of_followers         1.000000     0.060398       0.349195\n",
       "total_posts             0.060398     1.000000      -0.343087\n",
       "average_likes           0.349195    -0.343087       1.000000"
      ]
     },
     "execution_count": 25,
     "metadata": {},
     "output_type": "execute_result"
    }
   ],
   "source": [
    "# Select the numeric columns for correlation analysis \n",
    "data = influence_copy[['no_of_followers', 'total_posts', 'average_likes']]\n",
    "# Calculate the correlation coefficients\n",
    "corr_coeffient = data.corr()\n",
    "corr_coeffient"
   ]
  },
  {
   "cell_type": "code",
   "execution_count": 27,
   "id": "42b0d603",
   "metadata": {
    "scrolled": false
   },
   "outputs": [
    {
     "data": {
      "image/png": "[encoded data removed]",
      "text/plain": [
       "<Figure size 1008x864 with 9 Axes>"
      ]
     },
     "metadata": {},
     "output_type": "display_data"
    }
   ],
   "source": [
    "\n",
    "# Set the style for the plot\n",
    "plt.style.use('ggplot')\n",
    "fig, ax = plt. subplots(figsize=(14,12))\n",
    "gs = fig.add_gridspec(4,3)\n",
    "ax1 = fig.add_subplot(gs[0,:])\n",
    "ax2 = fig.add_subplot(gs[1,0])\n",
    "ax3 = fig.add_subplot(gs[1,1])\n",
    "ax4 = fig.add_subplot(gs[1,2])\n",
    "ax5 = fig.add_subplot(gs[2,:2])\n",
    "ax6 = fig.add_subplot(gs[2,2])\n",
    "ax7 = fig.add_subplot(gs[3,:])\n",
    "\n",
    "# Disable the axis labels, ticks, and grid lines in the main plot (ax)\n",
    "ax.axis('off')\n",
    "\n",
    "# Disable the axis labels, ticks, and grid lines in the ax1 plot\n",
    "ax1.axis('off')\n",
    "\n",
    "# Display the KPIs\n",
    "\n",
    "# Influencer KPI\n",
    "ax1.text(0.08, 0.5, f\"Influencers\\n\\n{channels}\", va='center', ha='center',fontsize=12, fontweight='bold', \n",
    "         bbox=dict(facecolor='white', edgecolor='black',boxstyle='round, pad=2, rounding_size=0.2' ))\n",
    "\n",
    "# Country KPI\n",
    "ax1.text(0.25, 0.5, f\"Countries\\n\\n{countries}\", va='center', ha='center',fontsize=12, fontweight='bold', \n",
    "         bbox=dict(facecolor='white', edgecolor='black',boxstyle='round, pad=2, rounding_size=0.2' ))\n",
    "\n",
    "# Average Total likes KPI\n",
    "ax1.text(0.44, 0.5, f\"Avg. Total Likes\\n\\n{str( average_total_likes)+'B'}\", va='center', ha='center',\n",
    "         fontsize=12, fontweight='bold', \n",
    "         bbox=dict(facecolor='white', edgecolor='black',boxstyle='round, pad=2, rounding_size=0.2'))\n",
    "\n",
    "# Average Post KPI\n",
    "ax1.text(0.65, 0.5, f\"Average Post\\n\\n{str(average_posts)+'K'}\", va='center', ha='center',\n",
    "         fontsize=12, fontweight='bold', \n",
    "         bbox=dict(facecolor='white', edgecolor='black',boxstyle='round, pad=2, rounding_size=0.2'))\n",
    "\n",
    "# Average Followers KPI\n",
    "ax1.text(0.87, 0.5, f\"Average Followers\\n\\n{str(average_followers)+'M'} \", va='center', ha='center',\n",
    "        fontsize=12, fontweight='bold', \n",
    "         bbox=dict(facecolor='white', edgecolor='black',boxstyle='round, pad=2, rounding_size=0.2')) \n",
    "\n",
    "# Q1 --- Plot the bar chart for the top 5 most popular influencers\n",
    "sns.barplot(data=top_influencers, x='channel_info', y='no_of_followers', palette='viridis', ax=ax2)\n",
    "ax2.set_xlabel('Influencer')\n",
    "ax2.set_xticklabels(top_influencers['channel_info'], rotation=45, ha='right')\n",
    "ax2.set_ylabel('No of Followers')\n",
    "ax2.set_title('Most Popular Influencers')\n",
    "\n",
    "# Q2 --- Plot the bar chart for the top 5 most active influencers\n",
    "sns.barplot(data=most_active_influencers, x='channel_info', y='total_posts', palette='viridis', ax=ax3)\n",
    "ax3.set_xlabel('Influencer')\n",
    "ax3.set_xticklabels(most_active_influencers['channel_info'], rotation = 45, ha='right')\n",
    "ax3.set_ylabel('No of Posts ')\n",
    "ax3.set_title('Most Active influencers')\n",
    "\n",
    "# Q3 --- Plot the bar chart for the top 5 most engaged influencers  \n",
    "sns.barplot(data=most_engaged_influencers, x='channel_info', y='overall_likes', palette='viridis', ax=ax4)\n",
    "ax4.set_xlabel('Influencer')\n",
    "ax4.set_xticklabels(most_engaged_influencers['channel_info'], rotation = 45, ha='right')\n",
    "ax4.set_ylabel('Total Likes ')\n",
    "ax4.set_title('Most Engaged influencers')\n",
    "\n",
    "\n",
    "\n",
    "# Q4 --- Plot the bar chart for the top 10 influencer countries \n",
    "sns.barplot(data=influencers_origin, y='# of influencers', x='country', palette='viridis',  ax=ax5);\n",
    "ax5.set_xlabel('Country')\n",
    "ax5.set_xticklabels(influencers_origin['country'], rotation = 45, ha='right')\n",
    "ax5.set_ylabel('No of Influencers')\n",
    "ax5.set_title('Top 10 influencer countries')\n",
    "\n",
    "# Q5 --- Plot the bar chart for the top 5 influencer with the highest influence score\n",
    "sns.barplot(data=most_influencial, x='channel_info', y= 'influence_score', palette='viridis', ax=ax6)\n",
    "ax6.set_xlabel('Influencer')\n",
    "ax6.set_xticklabels(most_influencial['channel_info'], rotation = 45, ha='right', fontsize=11)\n",
    "ax6.set_ylabel('Influence Score')\n",
    "ax6.set_title('Most Influential Influencers')\n",
    "\n",
    "for p in ax6.patches:\n",
    "    ax6.text(p.get_x() + p.get_width()/2, p.get_height()/2, int(p.get_height()),\n",
    "            ha='center', va='center', fontsize=10, fontweight='bold')\n",
    "    \n",
    "# Q6 --- Plot the correlation matrix\n",
    "sns.heatmap(corr_coeffient, cmap='coolwarm', annot=True, ax=ax7)\n",
    "ax7.set_title('Correlation Matrix')\n",
    "\n",
    "\n",
    "plt.suptitle('Instagram Influencers Analysis Dashboard'.upper(), fontsize=20, fontweight='bold')\n",
    "fig.subplots_adjust(hspace=0.9, wspace=0.8)\n",
    "fig.patch.set_facecolor('#EEEDED')\n",
    "fig.tight_layout()\n",
    "\n"
   ]
  },
  {
   "cell_type": "markdown",
   "id": "e005ac97",
   "metadata": {},
   "source": [
    "**INSIGHTS**\n",
    "1. Popularity: **Cristiano Ronaldo** leads the pack with a remarkable **475.8** million followers on Instagram. **Kylie Jenner** follows closely with **366.2** million followers. **Leo Messi** claims third place with **357.3** million followers, while **Selena Gomez** and **The Rock** round out the top five with **342.7** million and **334.1** million followers, respectively.\n",
    "\n",
    "\n",
    "2. Activity: **@raffinagita1717** holds the record for the highest activity among Instagram influencers with **17.5K** posts, closely followed by @natgeotravel with **16.9K** posts..\n",
    "\n",
    "\n",
    "3. Engagement: **Kylie Jenner** leads in likes, amassing an impressive **57.4** billion likes, trailed by **Cristiano Ronaldo** with **29** billion likes.\n",
    "\n",
    " \n",
    "4. Country of Origin: The **United States** leads with the highest number of influencers at **83** individuals, followed by **India** with **24** influencers, and **Brazil** with **15** influencers.\n",
    "\n",
    "\n",
    "5. Influence Score: **Selena Gomez** holds the top influence score of **93**. Following closely are **Cristiano Ronaldo**, **Ariana Grande**, **Beyonce**, and **Katy Perry**, each boasting an influence score of **92**.\"\n",
    "\n",
    "6. Relationship between Popularity, Activity, and Engagement: \n",
    "\n",
    "\ta) We observed a subtle, weak positive relationship (0.06r) between **popularity** (follower count) and **activity** (post          frequency). This suggests that frequent posting on Instagram does not necessarily lead to a large following.  \n",
    "\n",
    "\tb) We uncovered a mild, weak positive relationship (0.35r) between **engagement** (likes) and **popularity** (follower              count). This finding underscores that a high number of followers does not guarantee extensive engagement. Aspects such as        content quality, niche targeting, audience targeting, and timing also wield significant influence.\n",
    "    \n",
    "\tc) A weak negative relationship (-0.34r) was observed between **engagement** (likes) and **activity** (post frequency). This        suggests that frequent posting may lead to lower engagement. Excessive posting might dilute engagement levels, as                followers may become overwhelmed with content and engage less. Thus, a holistic approach focusing on content quality,            audience preferences, timing, hashtags, and location tags is paramount for sustainable engagement.\n"
   ]
  },
  {
   "cell_type": "markdown",
   "id": "bd6f1d7c",
   "metadata": {},
   "source": [
    "Thank you for your time and attention. This brings our analysis to a close."
   ]
  }
 ],
 "metadata": {
  "kernelspec": {
   "display_name": "Python 3 (ipykernel)",
   "language": "python",
   "name": "python3"
  },
  "language_info": {
   "codemirror_mode": {
    "name": "ipython",
    "version": 3
   },
   "file_extension": ".py",
   "mimetype": "text/x-python",
   "name": "python",
   "nbconvert_exporter": "python",
   "pygments_lexer": "ipython3",
   "version": "3.9.7"
  }
 },
 "nbformat": 4,
 "nbformat_minor": 5
}
